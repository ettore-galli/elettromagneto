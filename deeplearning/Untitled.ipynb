{
 "cells": [
  {
   "cell_type": "markdown",
   "id": "57627ea0-8063-428a-be45-81a7e6b1f438",
   "metadata": {},
   "source": []
  },
  {
   "cell_type": "code",
   "execution_count": 2,
   "id": "15ece31e-6df0-4da7-a278-dc7b004c0973",
   "metadata": {},
   "outputs": [],
   "source": [
    "import numpy as np\n"
   ]
  },
  {
   "cell_type": "code",
   "execution_count": 4,
   "id": "1899e49e-52f0-48fb-acec-4586fbcae978",
   "metadata": {},
   "outputs": [],
   "source": [
    "v1 = np.array([1,2,3])\n",
    "v2= np.array([4,5,6])"
   ]
  },
  {
   "cell_type": "code",
   "execution_count": null,
   "id": "f2c185ea-bcc6-451e-a780-6a16ff399fec",
   "metadata": {},
   "outputs": [],
   "source": []
  },
  {
   "cell_type": "code",
   "execution_count": 5,
   "id": "78644e86-e0a7-4331-a74c-e30421e02c20",
   "metadata": {},
   "outputs": [
    {
     "data": {
      "text/plain": [
       "array([ 4, 10, 18])"
      ]
     },
     "execution_count": 5,
     "metadata": {},
     "output_type": "execute_result"
    }
   ],
   "source": [
    "v1 * v2"
   ]
  },
  {
   "cell_type": "code",
   "execution_count": 6,
   "id": "789f7dd7-5395-404c-bdc2-e9da73f61549",
   "metadata": {},
   "outputs": [
    {
     "data": {
      "text/plain": [
       "32"
      ]
     },
     "execution_count": 6,
     "metadata": {},
     "output_type": "execute_result"
    }
   ],
   "source": [
    "np.dot(v1, v2)\n"
   ]
  },
  {
   "cell_type": "code",
   "execution_count": 4,
   "id": "21100637-17d2-4911-be5f-b938f090d9ac",
   "metadata": {},
   "outputs": [
    {
     "data": {
      "text/plain": [
       "5.0"
      ]
     },
     "execution_count": 4,
     "metadata": {},
     "output_type": "execute_result"
    }
   ],
   "source": [
    "# dir(np)\n",
    "np.linalg.norm(np.array([3, 4]))\n"
   ]
  },
  {
   "cell_type": "code",
   "execution_count": 13,
   "id": "d6e73d57-3391-464c-b849-45bc005bea0d",
   "metadata": {},
   "outputs": [
    {
     "data": {
      "text/plain": [
       "array([[-2. ,  1. ],\n",
       "       [ 1.5, -0.5]])"
      ]
     },
     "execution_count": 13,
     "metadata": {},
     "output_type": "execute_result"
    }
   ],
   "source": [
    "A=np.array([[1,2],[3,4]])\n",
    "Ai=np.linalg.inv(A)\n",
    "\n",
    "A\n",
    "Ai\n"
   ]
  },
  {
   "cell_type": "code",
   "execution_count": 19,
   "id": "7dae35b9-10dd-4375-a09c-8c57b11cd512",
   "metadata": {},
   "outputs": [],
   "source": [
    "b=np.array([5,11])\n"
   ]
  },
  {
   "cell_type": "code",
   "execution_count": 26,
   "id": "18a44528-f3aa-400d-a0b1-e676fa8bb1f1",
   "metadata": {},
   "outputs": [
    {
     "data": {
      "text/plain": [
       "array([1., 2.])"
      ]
     },
     "execution_count": 26,
     "metadata": {},
     "output_type": "execute_result"
    }
   ],
   "source": [
    "x=np.dot(Ai, b)\n",
    "x"
   ]
  },
  {
   "cell_type": "code",
   "execution_count": null,
   "id": "5b73c498-e3f0-4b40-8603-c9535b829d0e",
   "metadata": {},
   "outputs": [],
   "source": []
  }
 ],
 "metadata": {
  "kernelspec": {
   "display_name": "Python 3 (ipykernel)",
   "language": "python",
   "name": "python3"
  },
  "language_info": {
   "codemirror_mode": {
    "name": "ipython",
    "version": 3
   },
   "file_extension": ".py",
   "mimetype": "text/x-python",
   "name": "python",
   "nbconvert_exporter": "python",
   "pygments_lexer": "ipython3",
   "version": "3.11.4"
  }
 },
 "nbformat": 4,
 "nbformat_minor": 5
}
