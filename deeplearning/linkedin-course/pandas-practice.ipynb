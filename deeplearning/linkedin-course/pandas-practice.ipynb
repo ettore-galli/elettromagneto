{
 "cells": [
  {
   "cell_type": "code",
   "execution_count": 5,
   "id": "d05e892e-9579-4d13-84f9-7f9fde1ddf6d",
   "metadata": {},
   "outputs": [],
   "source": [
    "import pandas as pd"
   ]
  },
  {
   "cell_type": "code",
   "execution_count": 9,
   "id": "4e395e1c-4d68-41ce-84d2-5b0659f8ce0e",
   "metadata": {},
   "outputs": [
    {
     "name": "stdout",
     "output_type": "stream",
     "text": [
      "[0 0 2 1 2 0 1]\n"
     ]
    }
   ],
   "source": [
    "import csv\n",
    "from sklearn.preprocessing import LabelEncoder\n",
    "np_iris = None\n",
    "pd_data = None\n",
    "with open('iris.csv', newline='') as csvfile:\n",
    "    reader = csv.DictReader(csvfile)\n",
    "    raw_data = [row for row in reader]\n",
    "  \n",
    "\n",
    "    pd_data = pd.DataFrame.from_records(raw_data)\n",
    "\n",
    "    label_encoder = LabelEncoder()\n",
    "\n",
    "    print(label_encoder.fit_transform([\"A\", \"A\", \"C\", \"B\", \"C\", \"A\", \"B\"]))\n",
    "\n",
    "    np_iris = pd_data.to_numpy()"
   ]
  },
  {
   "cell_type": "code",
   "execution_count": 10,
   "id": "580eda00-32cd-455d-b8c3-dcdfc6218ae2",
   "metadata": {},
   "outputs": [
    {
     "name": "stdout",
     "output_type": "stream",
     "text": [
      "<class 'numpy.ndarray'>\n",
      "[['5.1' '3.5' '1.4' '0.2' 'setosa']\n",
      " ['4.9' '3' '1.4' '0.2' 'setosa']\n",
      " ['4.7' '3.2' '1.3' '0.2' 'setosa']\n",
      " ['4.6' '3.1' '1.5' '0.2' 'setosa']\n",
      " ['5' '3.6' '1.4' '0.2' 'setosa']\n",
      " ['5.4' '3.9' '1.7' '0.4' 'setosa']\n",
      " ['4.6' '3.4' '1.4' '0.3' 'setosa']\n",
      " ['5' '3.4' '1.5' '0.2' 'setosa']\n",
      " ['4.4' '2.9' '1.4' '0.2' 'setosa']\n",
      " ['4.9' '3.1' '1.5' '0.1' 'setosa']\n",
      " ['5.4' '3.7' '1.5' '0.2' 'setosa']\n",
      " ['4.8' '3.4' '1.6' '0.2' 'setosa']\n",
      " ['4.8' '3' '1.4' '0.1' 'setosa']\n",
      " ['4.3' '3' '1.1' '0.1' 'setosa']\n",
      " ['5.8' '4' '1.2' '0.2' 'setosa']\n",
      " ['5.7' '4.4' '1.5' '0.4' 'setosa']\n",
      " ['5.4' '3.9' '1.3' '0.4' 'setosa']\n",
      " ['5.1' '3.5' '1.4' '0.3' 'setosa']\n",
      " ['5.7' '3.8' '1.7' '0.3' 'setosa']\n",
      " ['5.1' '3.8' '1.5' '0.3' 'setosa']\n",
      " ['5.4' '3.4' '1.7' '0.2' 'setosa']\n",
      " ['5.1' '3.7' '1.5' '0.4' 'setosa']\n",
      " ['4.6' '3.6' '1' '0.2' 'setosa']\n",
      " ['5.1' '3.3' '1.7' '0.5' 'setosa']\n",
      " ['4.8' '3.4' '1.9' '0.2' 'setosa']\n",
      " ['5' '3' '1.6' '0.2' 'setosa']\n",
      " ['5' '3.4' '1.6' '0.4' 'setosa']\n",
      " ['5.2' '3.5' '1.5' '0.2' 'setosa']\n",
      " ['5.2' '3.4' '1.4' '0.2' 'setosa']\n",
      " ['4.7' '3.2' '1.6' '0.2' 'setosa']\n",
      " ['4.8' '3.1' '1.6' '0.2' 'setosa']\n",
      " ['5.4' '3.4' '1.5' '0.4' 'setosa']\n",
      " ['5.2' '4.1' '1.5' '0.1' 'setosa']\n",
      " ['5.5' '4.2' '1.4' '0.2' 'setosa']\n",
      " ['4.9' '3.1' '1.5' '0.2' 'setosa']\n",
      " ['5' '3.2' '1.2' '0.2' 'setosa']\n",
      " ['5.5' '3.5' '1.3' '0.2' 'setosa']\n",
      " ['4.9' '3.6' '1.4' '0.1' 'setosa']\n",
      " ['4.4' '3' '1.3' '0.2' 'setosa']\n",
      " ['5.1' '3.4' '1.5' '0.2' 'setosa']\n",
      " ['5' '3.5' '1.3' '0.3' 'setosa']\n",
      " ['4.5' '2.3' '1.3' '0.3' 'setosa']\n",
      " ['4.4' '3.2' '1.3' '0.2' 'setosa']\n",
      " ['5' '3.5' '1.6' '0.6' 'setosa']\n",
      " ['5.1' '3.8' '1.9' '0.4' 'setosa']\n",
      " ['4.8' '3' '1.4' '0.3' 'setosa']\n",
      " ['5.1' '3.8' '1.6' '0.2' 'setosa']\n",
      " ['4.6' '3.2' '1.4' '0.2' 'setosa']\n",
      " ['5.3' '3.7' '1.5' '0.2' 'setosa']\n",
      " ['5' '3.3' '1.4' '0.2' 'setosa']\n",
      " ['7' '3.2' '4.7' '1.4' 'versicolor']\n",
      " ['6.4' '3.2' '4.5' '1.5' 'versicolor']\n",
      " ['6.9' '3.1' '4.9' '1.5' 'versicolor']\n",
      " ['5.5' '2.3' '4' '1.3' 'versicolor']\n",
      " ['6.5' '2.8' '4.6' '1.5' 'versicolor']\n",
      " ['5.7' '2.8' '4.5' '1.3' 'versicolor']\n",
      " ['6.3' '3.3' '4.7' '1.6' 'versicolor']\n",
      " ['4.9' '2.4' '3.3' '1' 'versicolor']\n",
      " ['6.6' '2.9' '4.6' '1.3' 'versicolor']\n",
      " ['5.2' '2.7' '3.9' '1.4' 'versicolor']\n",
      " ['5' '2' '3.5' '1' 'versicolor']\n",
      " ['5.9' '3' '4.2' '1.5' 'versicolor']\n",
      " ['6' '2.2' '4' '1' 'versicolor']\n",
      " ['6.1' '2.9' '4.7' '1.4' 'versicolor']\n",
      " ['5.6' '2.9' '3.6' '1.3' 'versicolor']\n",
      " ['6.7' '3.1' '4.4' '1.4' 'versicolor']\n",
      " ['5.6' '3' '4.5' '1.5' 'versicolor']\n",
      " ['5.8' '2.7' '4.1' '1' 'versicolor']\n",
      " ['6.2' '2.2' '4.5' '1.5' 'versicolor']\n",
      " ['5.6' '2.5' '3.9' '1.1' 'versicolor']\n",
      " ['5.9' '3.2' '4.8' '1.8' 'versicolor']\n",
      " ['6.1' '2.8' '4' '1.3' 'versicolor']\n",
      " ['6.3' '2.5' '4.9' '1.5' 'versicolor']\n",
      " ['6.1' '2.8' '4.7' '1.2' 'versicolor']\n",
      " ['6.4' '2.9' '4.3' '1.3' 'versicolor']\n",
      " ['6.6' '3' '4.4' '1.4' 'versicolor']\n",
      " ['6.8' '2.8' '4.8' '1.4' 'versicolor']\n",
      " ['6.7' '3' '5' '1.7' 'versicolor']\n",
      " ['6' '2.9' '4.5' '1.5' 'versicolor']\n",
      " ['5.7' '2.6' '3.5' '1' 'versicolor']\n",
      " ['5.5' '2.4' '3.8' '1.1' 'versicolor']\n",
      " ['5.5' '2.4' '3.7' '1' 'versicolor']\n",
      " ['5.8' '2.7' '3.9' '1.2' 'versicolor']\n",
      " ['6' '2.7' '5.1' '1.6' 'versicolor']\n",
      " ['5.4' '3' '4.5' '1.5' 'versicolor']\n",
      " ['6' '3.4' '4.5' '1.6' 'versicolor']\n",
      " ['6.7' '3.1' '4.7' '1.5' 'versicolor']\n",
      " ['6.3' '2.3' '4.4' '1.3' 'versicolor']\n",
      " ['5.6' '3' '4.1' '1.3' 'versicolor']\n",
      " ['5.5' '2.5' '4' '1.3' 'versicolor']\n",
      " ['5.5' '2.6' '4.4' '1.2' 'versicolor']\n",
      " ['6.1' '3' '4.6' '1.4' 'versicolor']\n",
      " ['5.8' '2.6' '4' '1.2' 'versicolor']\n",
      " ['5' '2.3' '3.3' '1' 'versicolor']\n",
      " ['5.6' '2.7' '4.2' '1.3' 'versicolor']\n",
      " ['5.7' '3' '4.2' '1.2' 'versicolor']\n",
      " ['5.7' '2.9' '4.2' '1.3' 'versicolor']\n",
      " ['6.2' '2.9' '4.3' '1.3' 'versicolor']\n",
      " ['5.1' '2.5' '3' '1.1' 'versicolor']\n",
      " ['5.7' '2.8' '4.1' '1.3' 'versicolor']\n",
      " ['6.3' '3.3' '6' '2.5' 'virginica']\n",
      " ['5.8' '2.7' '5.1' '1.9' 'virginica']\n",
      " ['7.1' '3' '5.9' '2.1' 'virginica']\n",
      " ['6.3' '2.9' '5.6' '1.8' 'virginica']\n",
      " ['6.5' '3' '5.8' '2.2' 'virginica']\n",
      " ['7.6' '3' '6.6' '2.1' 'virginica']\n",
      " ['4.9' '2.5' '4.5' '1.7' 'virginica']\n",
      " ['7.3' '2.9' '6.3' '1.8' 'virginica']\n",
      " ['6.7' '2.5' '5.8' '1.8' 'virginica']\n",
      " ['7.2' '3.6' '6.1' '2.5' 'virginica']\n",
      " ['6.5' '3.2' '5.1' '2' 'virginica']\n",
      " ['6.4' '2.7' '5.3' '1.9' 'virginica']\n",
      " ['6.8' '3' '5.5' '2.1' 'virginica']\n",
      " ['5.7' '2.5' '5' '2' 'virginica']\n",
      " ['5.8' '2.8' '5.1' '2.4' 'virginica']\n",
      " ['6.4' '3.2' '5.3' '2.3' 'virginica']\n",
      " ['6.5' '3' '5.5' '1.8' 'virginica']\n",
      " ['7.7' '3.8' '6.7' '2.2' 'virginica']\n",
      " ['7.7' '2.6' '6.9' '2.3' 'virginica']\n",
      " ['6' '2.2' '5' '1.5' 'virginica']\n",
      " ['6.9' '3.2' '5.7' '2.3' 'virginica']\n",
      " ['5.6' '2.8' '4.9' '2' 'virginica']\n",
      " ['7.7' '2.8' '6.7' '2' 'virginica']\n",
      " ['6.3' '2.7' '4.9' '1.8' 'virginica']\n",
      " ['6.7' '3.3' '5.7' '2.1' 'virginica']\n",
      " ['7.2' '3.2' '6' '1.8' 'virginica']\n",
      " ['6.2' '2.8' '4.8' '1.8' 'virginica']\n",
      " ['6.1' '3' '4.9' '1.8' 'virginica']\n",
      " ['6.4' '2.8' '5.6' '2.1' 'virginica']\n",
      " ['7.2' '3' '5.8' '1.6' 'virginica']\n",
      " ['7.4' '2.8' '6.1' '1.9' 'virginica']\n",
      " ['7.9' '3.8' '6.4' '2' 'virginica']\n",
      " ['6.4' '2.8' '5.6' '2.2' 'virginica']\n",
      " ['6.3' '2.8' '5.1' '1.5' 'virginica']\n",
      " ['6.1' '2.6' '5.6' '1.4' 'virginica']\n",
      " ['7.7' '3' '6.1' '2.3' 'virginica']\n",
      " ['6.3' '3.4' '5.6' '2.4' 'virginica']\n",
      " ['6.4' '3.1' '5.5' '1.8' 'virginica']\n",
      " ['6' '3' '4.8' '1.8' 'virginica']\n",
      " ['6.9' '3.1' '5.4' '2.1' 'virginica']\n",
      " ['6.7' '3.1' '5.6' '2.4' 'virginica']\n",
      " ['6.9' '3.1' '5.1' '2.3' 'virginica']\n",
      " ['5.8' '2.7' '5.1' '1.9' 'virginica']\n",
      " ['6.8' '3.2' '5.9' '2.3' 'virginica']\n",
      " ['6.7' '3.3' '5.7' '2.5' 'virginica']\n",
      " ['6.7' '3' '5.2' '2.3' 'virginica']\n",
      " ['6.3' '2.5' '5' '1.9' 'virginica']\n",
      " ['6.5' '3' '5.2' '2' 'virginica']\n",
      " ['6.2' '3.4' '5.4' '2.3' 'virginica']\n",
      " ['5.9' '3' '5.1' '1.8' 'virginica']]\n",
      "0         setosa\n",
      "1         setosa\n",
      "2         setosa\n",
      "3         setosa\n",
      "4         setosa\n",
      "         ...    \n",
      "145    virginica\n",
      "146    virginica\n",
      "147    virginica\n",
      "148    virginica\n",
      "149    virginica\n",
      "Name: Species, Length: 150, dtype: object\n"
     ]
    }
   ],
   "source": [
    "print(type(np_iris))\n",
    "print(np_iris)\n",
    "\n",
    "print(pd_data[\"Species\"])\n",
    "\n",
    "\n"
   ]
  },
  {
   "cell_type": "code",
   "execution_count": 1,
   "id": "acd18218-0db9-4058-84ee-2abca6b64b46",
   "metadata": {},
   "outputs": [
    {
     "name": "stdout",
     "output_type": "stream",
     "text": [
      "[0 0 2 1 2 0 1]\n"
     ]
    }
   ],
   "source": [
    "# import pandas as pd\n",
    "# import numpy as np\n",
    "\n",
    "from sklearn.preprocessing import LabelEncoder\n",
    "\n",
    "label_encoder = LabelEncoder()\n",
    "\n",
    "print(label_encoder.fit_transform([\"A\", \"A\", \"C\", \"B\", \"C\", \"A\", \"B\"]))"
   ]
  },
  {
   "cell_type": "code",
   "execution_count": 11,
   "id": "d3556fa5-64e8-482f-8dd3-dab243ae2b03",
   "metadata": {},
   "outputs": [
    {
     "name": "stdout",
     "output_type": "stream",
     "text": [
      "[[1 3 5]\n",
      " [2 1 1]\n",
      " [1 3 1]\n",
      " [0 3 5]]\n",
      "[[1 3 5]\n",
      " [2 1 1]\n",
      " [1 3 1]] [[-0.70710678  0.70710678  1.41421356]\n",
      " [ 1.41421356 -1.41421356 -0.70710678]\n",
      " [-0.70710678  0.70710678 -0.70710678]]\n"
     ]
    }
   ],
   "source": [
    "import numpy as np\n",
    "from sklearn.preprocessing import StandardScaler\n",
    "\n",
    "raw_data = [\n",
    "    [1,3,5],\n",
    "    [2,1,1],\n",
    "    [1,3,1],\n",
    "    [0,3,5],\n",
    "]\n",
    "\n",
    "np_data = np.array(raw_data)\n",
    "\n",
    "print(np_data)\n",
    " \n",
    "\n",
    "x = np_data[:3]\n",
    "\n",
    "#Create a scaler model that is fit on the input data.\n",
    "scaler = StandardScaler().fit(x)\n",
    "\n",
    "#Scale the numeric feature variables\n",
    "x_scaled = scaler.transform(x)\n",
    "\n",
    "\n",
    "print(x, x_scaled)"
   ]
  },
  {
   "cell_type": "code",
   "execution_count": 29,
   "id": "24da31df-d0c3-41ad-bd0a-ffeec943d193",
   "metadata": {},
   "outputs": [
    {
     "name": "stdout",
     "output_type": "stream",
     "text": [
      "[1, 3, 5] [-0.29488391230979427, 0.0, 0.29488391230979427]\n"
     ]
    }
   ],
   "source": [
    "d=[1, 3, 5]\n",
    "s=sum(d)\n",
    "l=len(d)\n",
    "avg = s/l\n",
    "s2sum = sum([x**2 for x in d])\n",
    "stddev = (s**2 - s2sum)**0.5\n",
    "\n",
    "scaled = [(s - avg)/stddev for s in d]\n",
    "\n",
    " \n",
    "print(d, scaled)"
   ]
  },
  {
   "cell_type": "code",
   "execution_count": 21,
   "id": "18121eb9-ad5b-4ca1-8230-7a51036ad1f2",
   "metadata": {},
   "outputs": [
    {
     "data": {
      "text/plain": [
       "1.41421356"
      ]
     },
     "execution_count": 21,
     "metadata": {},
     "output_type": "execute_result"
    }
   ],
   "source": [
    "sum([-0.70710678,  0.70710678,  1.41421356])"
   ]
  }
 ],
 "metadata": {
  "kernelspec": {
   "display_name": "Python 3 (ipykernel)",
   "language": "python",
   "name": "python3"
  },
  "language_info": {
   "codemirror_mode": {
    "name": "ipython",
    "version": 3
   },
   "file_extension": ".py",
   "mimetype": "text/x-python",
   "name": "python",
   "nbconvert_exporter": "python",
   "pygments_lexer": "ipython3",
   "version": "3.11.4"
  }
 },
 "nbformat": 4,
 "nbformat_minor": 5
}
